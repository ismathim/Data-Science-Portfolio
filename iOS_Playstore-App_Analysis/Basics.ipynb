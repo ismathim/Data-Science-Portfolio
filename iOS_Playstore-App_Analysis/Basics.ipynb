{
 "cells": [
  {
   "cell_type": "markdown",
   "metadata": {
    "collapsed": true
   },
   "source": [
    "## Profitable App Profiles for the App Store and Google Play Market\n",
    "\n",
    "### Introduction:  \n",
    "Xletra, a Company which provides App solutions to Users at a free of cost. The Main source of revenue being in-app ads which allows the developers to provide more Apps that can be downloaded and installed free of cost.\n",
    "\n",
    "Working as a Data Analyst, my main Job is to analyse various Datasets available and in turn come up with suggestions to help the App Developers decide on various exciting App Solutions.  \n",
    "This will help in attracting more Users and will also help in boosting the revenue.\n",
    "### Problem Statement: \n",
    "There are many different types of App Caegories available in both Apple and GooglePlay Store, deciding on building an App which is free, boosts the user base by being unique and at the same time helps in increasing the revenue of the Company.\n",
    "\n",
    "### Aim: \n",
    "To collect and Analyze Data on the types of Mobile Applications available and those which are likely to attract more users on GooglePlay and the App Store."
   ]
  },
  {
   "cell_type": "markdown",
   "metadata": {},
   "source": [
    "### Problem Approach:\n",
    "1. Seaching for Suitable Datasets\n",
    "2. Exploring the Data\n",
    "3. Cleaning the Data\n",
    "4. Analysing Data\n",
    "5. Presenting the most viable Solution\n",
    "\n",
    "\n",
    "\n",
    "### Solution: \n",
    "There were around 7198 apps in the Apple Store and around 10842 apps in the GooglePlay Store (In the Sample Dataset). After cleaning the Data, we are left with 3221 in iOS and 8861 in Android to choose from. \n",
    "After Analyzing I conluded that Building a Book Store based App, having the Most recent Books along with other Feature like Discussion Forums,etc. will be a beneficial idea. \n",
    "\n",
    "\n",
    "\n",
    "### A small insight on the Datasets:\n",
    "As of September 2018, There were approximately 2 Million iOS Apps available on the App Store and 2.1 Million Android apps on the Google Play.  \n",
    "There are Two Data sets which are available and will be used in the Project:  \n",
    " 1. [A data set](https://www.kaggle.com/lava18/google-play-store-apps) containing data about approximately 10,000 Android apps from Google Play; the data was collected in August 2018.  \n",
    " 2. [A data set](https://www.kaggle.com/ramamet4/app-store-apple-data-set-10k-apps) containing data about approximately 7,000 iOS apps from the App Store; the data was collected in July 2017\n",
    "\n",
    "## In-details explanation\n",
    "\n",
    "### Step 1:  \n",
    "##### Let's Open the contents of the Datasets and define a function *explore_data* to display few rows of the Datasets (As shown in the code below)"
   ]
  },
  {
   "cell_type": "code",
   "execution_count": 1,
   "metadata": {
    "collapsed": false
   },
   "outputs": [],
   "source": [
    "def opening(data_set):\n",
    "    from csv import reader\n",
    "    opened_file=open(data_set)\n",
    "    read_file=reader(opened_file)\n",
    "    apps_data=list(read_file)\n",
    "    return apps_data\n",
    "iOS_Apps=opening('AppleStore.csv') #Apple Store \n",
    "Android_Apps=opening('googleplaystore.csv') #GooglePlay Store"
   ]
  },
  {
   "cell_type": "code",
   "execution_count": 2,
   "metadata": {
    "collapsed": false
   },
   "outputs": [
    {
     "name": "stdout",
     "output_type": "stream",
     "text": [
      "['284882215', 'Facebook', '389879808', 'USD', '0.0', '2974676', '212', '3.5', '3.5', '95.0', '4+', 'Social Networking', '37', '1', '29', '1']\n",
      "\n",
      "\n",
      "['389801252', 'Instagram', '113954816', 'USD', '0.0', '2161558', '1289', '4.5', '4.0', '10.23', '12+', 'Photo & Video', '37', '0', '29', '1']\n",
      "\n",
      "\n",
      "['529479190', 'Clash of Clans', '116476928', 'USD', '0.0', '2130805', '579', '4.5', '4.5', '9.24.12', '9+', 'Games', '38', '5', '18', '1']\n",
      "\n",
      "\n",
      "['420009108', 'Temple Run', '65921024', 'USD', '0.0', '1724546', '3842', '4.5', '4.0', '1.6.2', '9+', 'Games', '40', '5', '1', '1']\n",
      "\n",
      "\n",
      "Number of Rows: 7198\n",
      "Number of Columns: 16\n",
      "\n",
      "\n",
      "DataSet of GooglePlay Store:\n",
      "\n",
      "['Photo Editor & Candy Camera & Grid & ScrapBook', 'ART_AND_DESIGN', '4.1', '159', '19M', '10,000+', 'Free', '0', 'Everyone', 'Art & Design', 'January 7, 2018', '1.0.0', '4.0.3 and up']\n",
      "\n",
      "\n",
      "['Coloring book moana', 'ART_AND_DESIGN', '3.9', '967', '14M', '500,000+', 'Free', '0', 'Everyone', 'Art & Design;Pretend Play', 'January 15, 2018', '2.0.0', '4.0.3 and up']\n",
      "\n",
      "\n",
      "['U Launcher Lite – FREE Live Cool Themes, Hide Apps', 'ART_AND_DESIGN', '4.7', '87510', '8.7M', '5,000,000+', 'Free', '0', 'Everyone', 'Art & Design', 'August 1, 2018', '1.2.4', '4.0.3 and up']\n",
      "\n",
      "\n",
      "['Sketch - Draw & Paint', 'ART_AND_DESIGN', '4.5', '215644', '25M', '50,000,000+', 'Free', '0', 'Teen', 'Art & Design', 'June 8, 2018', 'Varies with device', '4.2 and up']\n",
      "\n",
      "\n",
      "Number of Rows: 10842\n",
      "Number of Columns: 13\n"
     ]
    }
   ],
   "source": [
    "def explore_data(dataset,start,end,rows_and_columns=False):\n",
    "    dataset_slice=dataset[start:end]\n",
    "    for row in dataset_slice:\n",
    "        print(row)\n",
    "        print('\\n')\n",
    "    if rows_and_columns:\n",
    "        print('Number of Rows:',len(dataset))\n",
    "        print('Number of Columns:',len(dataset[0]))\n",
    "explore_data(iOS_Apps,1,5,True)\n",
    "print('\\n')\n",
    "print('DataSet of GooglePlay Store:\\n')\n",
    "explore_data(Android_Apps,1,5,True)"
   ]
  },
  {
   "cell_type": "code",
   "execution_count": 3,
   "metadata": {
    "collapsed": false
   },
   "outputs": [
    {
     "name": "stdout",
     "output_type": "stream",
     "text": [
      "iOS Apps has the following Columns:\n",
      "\n",
      " ['id', 'track_name', 'size_bytes', 'currency', 'price', 'rating_count_tot', 'rating_count_ver', 'user_rating', 'user_rating_ver', 'ver', 'cont_rating', 'prime_genre', 'sup_devices.num', 'ipadSc_urls.num', 'lang.num', 'vpp_lic']\n",
      "\n",
      "\n",
      "Android Apps has the following Columns:\n",
      "\n",
      " ['App', 'Category', 'Rating', 'Reviews', 'Size', 'Installs', 'Type', 'Price', 'Content Rating', 'Genres', 'Last Updated', 'Current Ver', 'Android Ver']\n"
     ]
    }
   ],
   "source": [
    "#Column Names\n",
    "print ('iOS Apps has the following Columns:'+2*'\\n',iOS_Apps[0])\n",
    "print('\\n')\n",
    "print ('Android Apps has the following Columns:'+2*'\\n',Android_Apps[0])"
   ]
  },
  {
   "cell_type": "markdown",
   "metadata": {},
   "source": [
    "A detailed explanation of what each Columns stands for can be found in the respective Data Documentation which can be found in the below links :  \n",
    "   1. [iOS Apps](https://www.kaggle.com/ramamet4/app-store-apple-data-set-10k-apps)  \n",
    "   2. [Google Play Store](https://www.kaggle.com/lava18/google-play-store-apps)  \n",
    "   "
   ]
  },
  {
   "cell_type": "markdown",
   "metadata": {},
   "source": [
    "### Step 2 : Data Cleaning - As we deal with Apps which are *Free* to Download and are directed towards the *English-Speaking* audience, We need to first clean the Data of various Languages which might be present and Prepare our Data for the next Process of Analysis\n",
    "\n",
    "Data Cleaning takes away 80% of a task and the rest 20% is the actual Data Analysis.  \n",
    "It involves *removing* or *correcting wrong data*, *removing duplicate data* and *modifying the data* to fit the purpose of our analysis. \n",
    "\n",
    "On reading the Discussion Forum, we can find the row in which the wrong Data/Column is present\n"
   ]
  },
  {
   "cell_type": "code",
   "execution_count": 4,
   "metadata": {
    "collapsed": false
   },
   "outputs": [
    {
     "name": "stdout",
     "output_type": "stream",
     "text": [
      "10842\n",
      "10474\n",
      "['Life Made WI-Fi Touchscreen Photo Frame', '1.9', '19', '3.0M', '1,000+', 'Free', '0', 'Everyone', '', 'February 11, 2018', '1.0.19', '4.0 and up']\n"
     ]
    }
   ],
   "source": [
    "iOS_header=iOS_Apps[0]\n",
    "GooglePlay_header=Android_Apps[0]\n",
    "print (len(Android_Apps))\n",
    "for val in Android_Apps[1:]:\n",
    "    if len(val)!=len(GooglePlay_header):\n",
    "        index_value=Android_Apps.index(val)\n",
    "        print (index_value+1)\n",
    "        print (Android_Apps[index_value])\n",
    "        del(Android_Apps[index_value])        "
   ]
  },
  {
   "cell_type": "code",
   "execution_count": 5,
   "metadata": {
    "collapsed": false
   },
   "outputs": [
    {
     "name": "stdout",
     "output_type": "stream",
     "text": [
      "10841\n"
     ]
    }
   ],
   "source": [
    "print (len(Android_Apps))\n",
    "for value in iOS_Apps:\n",
    "    if len(value)!=len(iOS_header):\n",
    "        print (value[0])"
   ]
  },
  {
   "cell_type": "markdown",
   "metadata": {
    "collapsed": true
   },
   "source": [
    "If we skim through the Data set of the Google Play Apps, we can see that there are many Duplicate entries for the same App with little difference. Let's Print few to analyze these duplicate entries.  \n"
   ]
  },
  {
   "cell_type": "code",
   "execution_count": 6,
   "metadata": {
    "collapsed": false
   },
   "outputs": [
    {
     "name": "stdout",
     "output_type": "stream",
     "text": [
      "['Quick PDF Scanner + OCR FREE', 'BUSINESS', '4.2', '80805', 'Varies with device', '5,000,000+', 'Free', '0', 'Everyone', 'Business', 'February 26, 2018', 'Varies with device', '4.0.3 and up']\n",
      "\n",
      "\n",
      "['Quick PDF Scanner + OCR FREE', 'BUSINESS', '4.2', '80805', 'Varies with device', '5,000,000+', 'Free', '0', 'Everyone', 'Business', 'February 26, 2018', 'Varies with device', '4.0.3 and up']\n",
      "\n",
      "\n",
      "['Quick PDF Scanner + OCR FREE', 'BUSINESS', '4.2', '80804', 'Varies with device', '5,000,000+', 'Free', '0', 'Everyone', 'Business', 'February 26, 2018', 'Varies with device', '4.0.3 and up']\n",
      "\n",
      "\n",
      "['Instagram', 'SOCIAL', '4.5', '66577313', 'Varies with device', '1,000,000,000+', 'Free', '0', 'Teen', 'Social', 'July 31, 2018', 'Varies with device', 'Varies with device']\n",
      "\n",
      "\n",
      "['Instagram', 'SOCIAL', '4.5', '66577446', 'Varies with device', '1,000,000,000+', 'Free', '0', 'Teen', 'Social', 'July 31, 2018', 'Varies with device', 'Varies with device']\n",
      "\n",
      "\n",
      "['Instagram', 'SOCIAL', '4.5', '66577313', 'Varies with device', '1,000,000,000+', 'Free', '0', 'Teen', 'Social', 'July 31, 2018', 'Varies with device', 'Varies with device']\n",
      "\n",
      "\n",
      "['Instagram', 'SOCIAL', '4.5', '66509917', 'Varies with device', '1,000,000,000+', 'Free', '0', 'Teen', 'Social', 'July 31, 2018', 'Varies with device', 'Varies with device']\n",
      "\n",
      "\n",
      "The No. of duplicate entries is : 1181\n",
      "The No. of unique entries is : 9659\n"
     ]
    }
   ],
   "source": [
    "duplicates_entries=[]\n",
    "unique_entries=[]\n",
    "for duplicates in Android_Apps[1:]:\n",
    "    if duplicates[0] in unique_entries:\n",
    "        duplicates_entries.append(duplicates[0])\n",
    "    else:\n",
    "        unique_entries.append(duplicates[0])\n",
    "for valy in Android_Apps[1:]:\n",
    "    if valy[0]==duplicates_entries[0]:\n",
    "        print (valy)\n",
    "        print('\\n')\n",
    "    if valy[0]=='Instagram':\n",
    "        print(valy)\n",
    "        print('\\n')\n",
    "print('The No. of duplicate entries is :',len(duplicates_entries))\n",
    "print('The No. of unique entries is :',len(unique_entries))"
   ]
  },
  {
   "cell_type": "markdown",
   "metadata": {
    "collapsed": true
   },
   "source": [
    "If we look at the Above Sample Data we can see that there are multiple entries(which is 1181) with various review numbers for a single App.  \n",
    "if we take 'Instagram' for example, we can see that it alone has around 4 entries with difference in the review details.  \n",
    "Inorder to remove the Redundant entry we need to choose a criterion and the best way to do it is by deleting various entries for the single app and keep only the most recent review ones which obviously is the ones having the highest number of reviews.  "
   ]
  },
  {
   "cell_type": "code",
   "execution_count": 7,
   "metadata": {
    "collapsed": false
   },
   "outputs": [
    {
     "name": "stdout",
     "output_type": "stream",
     "text": [
      "9659\n"
     ]
    }
   ],
   "source": [
    "reviews_max={}\n",
    "for value_apps in Android_Apps[1:]:\n",
    "    name=value_apps[0]\n",
    "    n_reviews=value_apps[3]\n",
    "    if name in reviews_max and reviews_max[name]< n_reviews:\n",
    "        reviews_max[name]=n_reviews\n",
    "    elif name not in reviews_max:\n",
    "        reviews_max[name]=n_reviews\n",
    "print(len(reviews_max))"
   ]
  },
  {
   "cell_type": "code",
   "execution_count": 8,
   "metadata": {
    "collapsed": false
   },
   "outputs": [
    {
     "name": "stdout",
     "output_type": "stream",
     "text": [
      "['Coloring book moana', 'ART_AND_DESIGN', '3.9', '967', '14M', '500,000+', 'Free', '0', 'Everyone', 'Art & Design;Pretend Play', 'January 15, 2018', '2.0.0', '4.0.3 and up']\n",
      "\n",
      "\n",
      "['U Launcher Lite – FREE Live Cool Themes, Hide Apps', 'ART_AND_DESIGN', '4.7', '87510', '8.7M', '5,000,000+', 'Free', '0', 'Everyone', 'Art & Design', 'August 1, 2018', '1.2.4', '4.0.3 and up']\n",
      "\n",
      "\n",
      "['Sketch - Draw & Paint', 'ART_AND_DESIGN', '4.5', '215644', '25M', '50,000,000+', 'Free', '0', 'Teen', 'Art & Design', 'June 8, 2018', 'Varies with device', '4.2 and up']\n",
      "\n",
      "\n",
      "9659\n"
     ]
    }
   ],
   "source": [
    "android_clean=[]     #stores our new cleaned data\n",
    "already_added=[]     #stores the App name\n",
    "for app in Android_Apps[1:]:\n",
    "    name=app[0]\n",
    "    n_reviews=app[3]\n",
    "    if (reviews_max[name]==n_reviews) and (name not in already_added):\n",
    "        android_clean.append(app)\n",
    "        already_added.append(name)\n",
    "        \n",
    "explore_data(Android_Apps,2,5)\n",
    "print(len(already_added))"
   ]
  },
  {
   "cell_type": "markdown",
   "metadata": {
    "collapsed": true
   },
   "source": [
    "We build only Apps focusing on the English Language, if we look at our Data set we can see that the Apps are also in other Languages so it' better we remove these.  \n",
    "So we'll do this in the following:  "
   ]
  },
  {
   "cell_type": "code",
   "execution_count": 9,
   "metadata": {
    "collapsed": false
   },
   "outputs": [
    {
     "data": {
      "text/plain": [
       "True"
      ]
     },
     "execution_count": 9,
     "metadata": {},
     "output_type": "execute_result"
    }
   ],
   "source": [
    "def eng_lang(string):\n",
    "    count=0\n",
    "    for i in string:\n",
    "        \n",
    "        if (ord(i)>127):\n",
    "            count+=1\n",
    "    if count>3:\n",
    "        return False\n",
    "    else:\n",
    "        return True\n",
    "eng_lang('Docs To Go™ Free Office Suite')"
   ]
  },
  {
   "cell_type": "code",
   "execution_count": 10,
   "metadata": {
    "collapsed": false,
    "scrolled": true
   },
   "outputs": [
    {
     "name": "stdout",
     "output_type": "stream",
     "text": [
      "['Photo Editor & Candy Camera & Grid & ScrapBook', 'ART_AND_DESIGN', '4.1', '159', '19M', '10,000+', 'Free', '0', 'Everyone', 'Art & Design', 'January 7, 2018', '1.0.0', '4.0.3 and up']\n",
      "\n",
      "\n",
      "['U Launcher Lite – FREE Live Cool Themes, Hide Apps', 'ART_AND_DESIGN', '4.7', '87510', '8.7M', '5,000,000+', 'Free', '0', 'Everyone', 'Art & Design', 'August 1, 2018', '1.2.4', '4.0.3 and up']\n",
      "\n",
      "\n",
      "['Sketch - Draw & Paint', 'ART_AND_DESIGN', '4.5', '215644', '25M', '50,000,000+', 'Free', '0', 'Teen', 'Art & Design', 'June 8, 2018', 'Varies with device', '4.2 and up']\n",
      "\n",
      "\n",
      "Number of Rows: 9614\n",
      "Number of Columns: 13\n",
      "\n",
      "\n",
      "['284882215', 'Facebook', '389879808', 'USD', '0.0', '2974676', '212', '3.5', '3.5', '95.0', '4+', 'Social Networking', '37', '1', '29', '1']\n",
      "\n",
      "\n",
      "['389801252', 'Instagram', '113954816', 'USD', '0.0', '2161558', '1289', '4.5', '4.0', '10.23', '12+', 'Photo & Video', '37', '0', '29', '1']\n",
      "\n",
      "\n",
      "['529479190', 'Clash of Clans', '116476928', 'USD', '0.0', '2130805', '579', '4.5', '4.5', '9.24.12', '9+', 'Games', '38', '5', '18', '1']\n",
      "\n",
      "\n",
      "Number of Rows: 6183\n",
      "Number of Columns: 16\n"
     ]
    }
   ],
   "source": [
    "android_english = []\n",
    "ios_english = []\n",
    "\n",
    "for app in android_clean:\n",
    "    name = app[0]\n",
    "    if eng_lang(name):\n",
    "        android_english.append(app)\n",
    "        \n",
    "for app in iOS_Apps[1:]:\n",
    "    name = app[1]\n",
    "    if eng_lang(name):\n",
    "        ios_english.append(app)\n",
    "        \n",
    "explore_data(android_english, 0, 3, True)\n",
    "print('\\n')\n",
    "explore_data(ios_english, 0, 3, True)"
   ]
  },
  {
   "cell_type": "markdown",
   "metadata": {},
   "source": [
    "So far in the Data Cleaning Process, we have worked on :\n",
    "1. Removing inaccurate data\n",
    "2. Removing duplicate app entries\n",
    "3. Removing non-english apps  \n",
    "Next, we'll work on removing Apps which are Paid since our Company focuses on building only Free Apps."
   ]
  },
  {
   "cell_type": "code",
   "execution_count": 11,
   "metadata": {
    "collapsed": false
   },
   "outputs": [
    {
     "name": "stdout",
     "output_type": "stream",
     "text": [
      "16\n",
      "8861\n"
     ]
    }
   ],
   "source": [
    "iOS_free_apps=[]\n",
    "android_free_apps=[]\n",
    "for free_apps in ios_english[1:]:\n",
    "    if free_apps[4]== '0.0':\n",
    "        iOS_free_apps.append(free_apps)\n",
    "for apps_free in android_english[1:]:\n",
    "    if apps_free[7]== '0':\n",
    "        android_free_apps.append(apps_free)\n",
    "        \n",
    "print (len(iOS_free_apps[0]))\n",
    "print (len(android_free_apps))"
   ]
  },
  {
   "cell_type": "markdown",
   "metadata": {},
   "source": [
    "As mentioned earlier, our main aim is to determine the kind of apps that are likely to attract more users because our revenue is highly influenced by the number of people using our apps.  \n",
    "\n",
    "To minimize the risk and overhead, our validation statergy for an app is comprised of three main steps:  \n",
    "\n",
    "1. Build a minimal Android version of the App and add it to the Google Store.  \n",
    "2. If there is a Good app response, we further develop it.\n",
    "3.If the App is profitable after 6 months, we work on building the iOS version of the same.\n",
    "\n",
    "Our end goal is to make apps for both the Google and Apple Stores, hence we need to find the app profiles that are successful in both the Markets.\n",
    "\n",
    "Let's begin the analysis by getting a sense of the common genres for each market."
   ]
  },
  {
   "cell_type": "code",
   "execution_count": 12,
   "metadata": {
    "collapsed": false
   },
   "outputs": [],
   "source": [
    "def freq_table(dataset,index):\n",
    "    #dataset-list of lists, index-an integer type\n",
    "    freq_table_list={}\n",
    "    total=0\n",
    "    for value in dataset[1:]:\n",
    "        total+=1\n",
    "        new_val=value[index]\n",
    "        if new_val in freq_table_list:\n",
    "            freq_table_list[new_val]+=1\n",
    "        else:\n",
    "            freq_table_list[new_val]=1\n",
    "            \n",
    "    percentage_val={}\n",
    "    for value_per in freq_table_list:\n",
    "        percentage=(freq_table_list[value_per]/total)*100.0\n",
    "        percentage_val[value_per]=percentage\n",
    "    return percentage_val\n",
    "\n",
    "freq_table(iOS_free_apps,-5)\n",
    "\n",
    "\n",
    "\n",
    "def display_table(dataset, index):\n",
    "    table = freq_table(dataset, index)\n",
    "    table_display = []\n",
    "    for key in table:\n",
    "        key_val_as_tuple = (table[key], key)\n",
    "        table_display.append(key_val_as_tuple)\n",
    "\n",
    "    table_sorted = sorted(table_display, reverse = True)\n",
    "    for entry in table_sorted:\n",
    "        print(entry[1], ':', entry[0])\n",
    "    \n",
    "\n",
    "#print('\\n')\n",
    "#display_table(android_free_apps,1)"
   ]
  },
  {
   "cell_type": "markdown",
   "metadata": {
    "collapsed": true
   },
   "source": [
    "We can see that the Google play store has apps which are more diverse and well categorised but on the other hand it's not the same for Apple store.\n",
    "\n",
    "Till now we can see that the apps created in iOS store is predominantly for fun while on the other hand the apps in Google store is more balanced, Let's Analyse further!  "
   ]
  },
  {
   "cell_type": "code",
   "execution_count": 13,
   "metadata": {
    "collapsed": false
   },
   "outputs": [
    {
     "name": "stdout",
     "output_type": "stream",
     "text": [
      "Games : 58.19875776397515\n",
      "Entertainment : 7.888198757763975\n",
      "Photo & Video : 4.937888198757764\n",
      "Education : 3.6645962732919255\n",
      "Social Networking : 3.260869565217391\n",
      "Shopping : 2.608695652173913\n",
      "Utilities : 2.515527950310559\n",
      "Sports : 2.142857142857143\n",
      "Music : 2.049689440993789\n",
      "Health & Fitness : 2.018633540372671\n",
      "Productivity : 1.7391304347826086\n",
      "Lifestyle : 1.5838509316770186\n",
      "News : 1.3354037267080745\n",
      "Travel : 1.2422360248447204\n",
      "Finance : 1.1180124223602486\n",
      "Weather : 0.8695652173913043\n",
      "Food & Drink : 0.8074534161490683\n",
      "Reference : 0.5590062111801243\n",
      "Business : 0.5279503105590062\n",
      "Book : 0.43478260869565216\n",
      "Navigation : 0.18633540372670807\n",
      "Medical : 0.18633540372670807\n",
      "Catalogs : 0.12422360248447205\n"
     ]
    }
   ],
   "source": [
    "display_table(iOS_free_apps,-5)"
   ]
  },
  {
   "cell_type": "code",
   "execution_count": 14,
   "metadata": {
    "collapsed": false
   },
   "outputs": [
    {
     "name": "stdout",
     "output_type": "stream",
     "text": [
      "Social Networking : 43899.514285714286\n",
      "News : 21248.023255813954\n",
      "Food & Drink : 33333.92307692308\n",
      "Music : 57326.530303030304\n",
      "Shopping : 26919.690476190477\n",
      "Travel : 28243.8\n",
      "Education : 7003.983050847458\n",
      "Reference : 74942.11111111111\n",
      "Entertainment : 14029.830708661417\n",
      "Sports : 23008.898550724636\n",
      "Finance : 31467.944444444445\n",
      "Book : 39758.5\n",
      "Health & Fitness : 23298.015384615384\n",
      "Medical : 612.0\n",
      "Photo & Video : 28441.54375\n",
      "Navigation : 86090.33333333333\n",
      "Utilities : 18684.456790123455\n",
      "Lifestyle : 16485.764705882353\n",
      "Catalogs : 4004.0\n",
      "Business : 7491.117647058823\n",
      "Games : 22788.6696905016\n",
      "Productivity : 21028.410714285714\n",
      "Weather : 52279.892857142855\n",
      "[86090.33333333333, 74942.11111111111, 57326.530303030304, 52279.892857142855, 43899.514285714286, 39758.5, 33333.92307692308, 31467.944444444445, 28441.54375, 28243.8, 26919.690476190477, 23298.015384615384, 23008.898550724636, 22788.6696905016, 21248.023255813954, 21028.410714285714, 18684.456790123455, 16485.764705882353, 14029.830708661417, 7491.117647058823, 7003.983050847458, 4004.0, 612.0]\n"
     ]
    }
   ],
   "source": [
    "value_apps=freq_table(iOS_free_apps,-5)\n",
    "list_avg_user=[]\n",
    "for genre in value_apps:\n",
    "   \n",
    "    total=0\n",
    "    len_genre=0\n",
    "    for value in iOS_free_apps:\n",
    "        genre_App=value[-5]\n",
    "        if genre_App == genre:\n",
    "            rating_user=float(value[5])\n",
    "            total+= rating_user\n",
    "            len_genre+=1\n",
    "    avg_user=(total/len_genre)\n",
    "    list_avg_user.append(avg_user)\n",
    "    print (genre,':',avg_user)\n",
    "print(sorted(list_avg_user,reverse=True))"
   ]
  },
  {
   "cell_type": "markdown",
   "metadata": {},
   "source": [
    "On an average, Navigation Apps seem to have the highest User ratings amongst the others. but however, this value is bit skewed by Google and Waze as seen below:  "
   ]
  },
  {
   "cell_type": "code",
   "execution_count": 15,
   "metadata": {
    "collapsed": false
   },
   "outputs": [
    {
     "name": "stdout",
     "output_type": "stream",
     "text": [
      "Waze - GPS Navigation, Maps & Real-time Traffic : 345046\n",
      "Google Maps - Navigation & Transit : 154911\n",
      "Geocaching® : 12811\n",
      "CoPilot GPS – Car Navigation & Offline Maps : 3582\n",
      "ImmobilienScout24: Real Estate Search in Germany : 187\n",
      "Railway Route Search : 5\n"
     ]
    }
   ],
   "source": [
    "for letsnavi in iOS_free_apps:\n",
    "    if letsnavi[-5]=='Navigation':\n",
    "        print(letsnavi[1],':',letsnavi[5])"
   ]
  },
  {
   "cell_type": "markdown",
   "metadata": {},
   "source": [
    "Now we look at the Google App store's install column to check the number for our Analysis.  "
   ]
  },
  {
   "cell_type": "code",
   "execution_count": 16,
   "metadata": {
    "collapsed": false
   },
   "outputs": [
    {
     "name": "stdout",
     "output_type": "stream",
     "text": [
      "SOCIAL : 23253652.127118643\n",
      "EVENTS : 253542.22222222222\n",
      "COMICS : 817657.2727272727\n",
      "ART_AND_DESIGN : 2021626.7857142857\n",
      "MEDICAL : 120616.48717948717\n",
      "BOOKS_AND_REFERENCE : 8767811.894736841\n",
      "LIFESTYLE : 1437816.2687861272\n",
      "ENTERTAINMENT : 11640705.88235294\n",
      "LIBRARIES_AND_DEMO : 638503.734939759\n",
      "BUSINESS : 1712290.1474201474\n",
      "BEAUTY : 513151.88679245283\n",
      "NEWS_AND_MAGAZINES : 9549178.467741935\n",
      "HEALTH_AND_FITNESS : 4188821.9853479853\n",
      "FINANCE : 1387692.475609756\n",
      "FAMILY : 3694276.334922527\n",
      "PRODUCTIVITY : 16787331.344927534\n",
      "PHOTOGRAPHY : 17805627.643678162\n",
      "PERSONALIZATION : 5201482.6122448975\n",
      "GAME : 15560965.599534342\n",
      "WEATHER : 5074486.197183099\n",
      "FOOD_AND_DRINK : 1924897.7363636363\n",
      "MAPS_AND_NAVIGATION : 4056941.7741935486\n",
      "SPORTS : 3638640.1428571427\n",
      "EDUCATION : 1820673.076923077\n",
      "COMMUNICATION : 38456119.167247385\n",
      "VIDEO_PLAYERS : 24727872.452830188\n",
      "TRAVEL_AND_LOCAL : 13984077.710144928\n",
      "DATING : 854028.8303030303\n",
      "HOUSE_AND_HOME : 1331540.5616438356\n",
      "SHOPPING : 7036877.311557789\n",
      "TOOLS : 10682301.033377837\n",
      "PARENTING : 542603.6206896552\n",
      "AUTO_AND_VEHICLES : 647317.8170731707\n",
      "[38456119.167247385, 24727872.452830188, 23253652.127118643, 17805627.643678162, 16787331.344927534, 15560965.599534342, 13984077.710144928, 11640705.88235294, 10682301.033377837, 9549178.467741935, 8767811.894736841, 7036877.311557789, 5201482.6122448975, 5074486.197183099, 4188821.9853479853, 4056941.7741935486, 3694276.334922527, 3638640.1428571427, 2021626.7857142857, 1924897.7363636363, 1820673.076923077, 1712290.1474201474, 1437816.2687861272, 1387692.475609756, 1331540.5616438356, 854028.8303030303, 817657.2727272727, 647317.8170731707, 638503.734939759, 542603.6206896552, 513151.88679245283, 253542.22222222222, 120616.48717948717]\n"
     ]
    }
   ],
   "source": [
    "values_appstore=freq_table(android_free_apps,1)\n",
    "list_app_high=[]\n",
    "for category in values_appstore:\n",
    "    total=0\n",
    "    len_category=0\n",
    "    for cate in android_free_apps:\n",
    "        category_app=cate[1]\n",
    "        if category_app== category:\n",
    "            len_category+=1\n",
    "            n_install=cate[5]\n",
    "            n_install=n_install.replace('+','')\n",
    "            n_install=n_install.replace(',','')\n",
    "            n_install=float(n_install)\n",
    "            total+= n_install\n",
    "    avg_instal=total/len_category\n",
    "    print(category,':',avg_instal)\n",
    "    list_app_high.append(avg_instal)\n",
    "print(sorted(list_app_high,reverse=True))"
   ]
  },
  {
   "cell_type": "code",
   "execution_count": 17,
   "metadata": {
    "collapsed": false
   },
   "outputs": [
    {
     "name": "stdout",
     "output_type": "stream",
     "text": [
      "3221\n",
      "8861\n"
     ]
    }
   ],
   "source": [
    "print(len(iOS_free_apps))\n",
    "print(len(android_free_apps))"
   ]
  },
  {
   "cell_type": "markdown",
   "metadata": {
    "collapsed": true
   },
   "source": [
    "On average, communication apps have the most installs: 38,456,119. This number is heavily skewed up by a few apps that have over one billion installs (WhatsApp, Facebook Messenger, Skype, Google Chrome, Gmail, and Hangouts), and a few others with over 100 and 500 million installs:"
   ]
  },
  {
   "cell_type": "code",
   "execution_count": 18,
   "metadata": {
    "collapsed": false
   },
   "outputs": [
    {
     "name": "stdout",
     "output_type": "stream",
     "text": [
      "WhatsApp Messenger : 1,000,000,000+\n",
      "imo beta free calls and text : 100,000,000+\n",
      "Android Messages : 100,000,000+\n",
      "Google Duo - High Quality Video Calls : 500,000,000+\n",
      "Messenger – Text and Video Chat for Free : 1,000,000,000+\n",
      "imo free video calls and chat : 500,000,000+\n",
      "Skype - free IM & video calls : 1,000,000,000+\n",
      "Who : 100,000,000+\n",
      "GO SMS Pro - Messenger, Free Themes, Emoji : 100,000,000+\n",
      "LINE: Free Calls & Messages : 500,000,000+\n",
      "Google Chrome: Fast & Secure : 1,000,000,000+\n",
      "Firefox Browser fast & private : 100,000,000+\n",
      "UC Browser - Fast Download Private & Secure : 500,000,000+\n",
      "Gmail : 1,000,000,000+\n",
      "Hangouts : 1,000,000,000+\n",
      "Messenger Lite: Free Calls & Messages : 100,000,000+\n",
      "Kik : 100,000,000+\n",
      "KakaoTalk: Free Calls & Text : 100,000,000+\n",
      "Opera Mini - fast web browser : 100,000,000+\n",
      "Opera Browser: Fast and Secure : 100,000,000+\n",
      "Telegram : 100,000,000+\n",
      "Truecaller: Caller ID, SMS spam blocking & Dialer : 100,000,000+\n",
      "UC Browser Mini -Tiny Fast Private & Secure : 100,000,000+\n",
      "Viber Messenger : 500,000,000+\n",
      "WeChat : 100,000,000+\n",
      "Yahoo Mail – Stay Organized : 100,000,000+\n",
      "BBM - Free Calls & Messages : 100,000,000+\n"
     ]
    }
   ],
   "source": [
    "for app in android_free_apps:\n",
    "    if app[1]== 'COMMUNICATION' and (app[5] == '1,000,000,000+'\n",
    "                                      or app[5] == '500,000,000+'\n",
    "                                      or app[5] == '100,000,000+'):\n",
    "        print(app[0], ':', app[5])"
   ]
  },
  {
   "cell_type": "markdown",
   "metadata": {},
   "source": [
    "If we removed all the communication apps that have over 100 million installs, the average would be reduced roughly ten times:"
   ]
  },
  {
   "cell_type": "code",
   "execution_count": 19,
   "metadata": {
    "collapsed": false
   },
   "outputs": [
    {
     "data": {
      "text/plain": [
       "3603485.3884615386"
      ]
     },
     "execution_count": 19,
     "metadata": {},
     "output_type": "execute_result"
    }
   ],
   "source": [
    "under_100_m = []\n",
    "\n",
    "for app in android_free_apps:\n",
    "    n_installs = app[5]\n",
    "    n_installs = n_installs.replace(',', '')\n",
    "    n_installs = n_installs.replace('+', '')\n",
    "    if (app[1] == 'COMMUNICATION') and (float(n_installs) < 100000000):\n",
    "        under_100_m.append(float(n_installs))\n",
    "        \n",
    "sum(under_100_m) / len(under_100_m)"
   ]
  },
  {
   "cell_type": "markdown",
   "metadata": {},
   "source": [
    "We see the same pattern for the video players category, which is the runner-up with 24,727,872 installs. The market is dominated by apps like Youtube, Google Play Movies & TV, or MX Player. The pattern is repeated for social apps (where we have giants like Facebook, Instagram, Google+, etc.), photography apps (Google Photos and other popular photo editors), or productivity apps (Microsoft Word, Dropbox, Google Calendar, Evernote, etc.).\n",
    "Again, the main concern is that these app genres might seem more popular than they really are. Moreover, these niches seem to be dominated by a few giants who are hard to compete against.\n",
    "The game genre seems pretty popular, but previously we found out this part of the market seems a bit saturated, so we'd like to come up with a different app recommendation if possible.\n",
    "The books and reference genre looks fairly popular as well, with an average number of installs of 8,767,811. It's interesting to explore this in more depth, since we found this genre has some potential to work well on the App Store, and our aim is to recommend an app genre that shows potential for being profitable on both the App Store and Google Play.\n",
    "Let's take a look at some of the apps from this genre and their number of installs:"
   ]
  },
  {
   "cell_type": "code",
   "execution_count": 21,
   "metadata": {
    "collapsed": false
   },
   "outputs": [
    {
     "name": "stdout",
     "output_type": "stream",
     "text": [
      "E-Book Read - Read Book for free : 50,000+\n",
      "Download free book with green book : 100,000+\n",
      "Wikipedia : 10,000,000+\n",
      "Cool Reader : 10,000,000+\n",
      "Free Panda Radio Music : 100,000+\n",
      "Book store : 1,000,000+\n",
      "FBReader: Favorite Book Reader : 10,000,000+\n",
      "English Grammar Complete Handbook : 500,000+\n",
      "Free Books - Spirit Fanfiction and Stories : 1,000,000+\n",
      "Google Play Books : 1,000,000,000+\n",
      "AlReader -any text book reader : 5,000,000+\n",
      "Offline English Dictionary : 100,000+\n",
      "Offline: English to Tagalog Dictionary : 500,000+\n",
      "FamilySearch Tree : 1,000,000+\n",
      "Cloud of Books : 1,000,000+\n",
      "Recipes of Prophetic Medicine for free : 500,000+\n",
      "ReadEra – free ebook reader : 1,000,000+\n",
      "Anonymous caller detection : 10,000+\n",
      "Ebook Reader : 5,000,000+\n",
      "Litnet - E-books : 100,000+\n",
      "Read books online : 5,000,000+\n",
      "English to Urdu Dictionary : 500,000+\n",
      "eBoox: book reader fb2 epub zip : 1,000,000+\n",
      "English Persian Dictionary : 500,000+\n",
      "Flybook : 500,000+\n",
      "All Maths Formulas : 1,000,000+\n",
      "Ancestry : 5,000,000+\n",
      "HTC Help : 10,000,000+\n",
      "English translation from Bengali : 100,000+\n",
      "Pdf Book Download - Read Pdf Book : 100,000+\n",
      "Free Book Reader : 100,000+\n",
      "eBoox new: Reader for fb2 epub zip books : 50,000+\n",
      "Only 30 days in English, the guideline is guaranteed : 500,000+\n",
      "Moon+ Reader : 10,000,000+\n",
      "SH-02J Owner's Manual (Android 8.0) : 50,000+\n",
      "English-Myanmar Dictionary : 1,000,000+\n",
      "Golden Dictionary (EN-AR) : 1,000,000+\n",
      "All Language Translator Free : 1,000,000+\n",
      "Azpen eReader : 500,000+\n",
      "URBANO V 02 instruction manual : 100,000+\n",
      "Bible : 100,000,000+\n",
      "C Programs and Reference : 50,000+\n",
      "C Offline Tutorial : 1,000+\n",
      "C Programs Handbook : 50,000+\n",
      "Amazon Kindle : 100,000,000+\n",
      "Aab e Hayat Full Novel : 100,000+\n",
      "Aldiko Book Reader : 10,000,000+\n",
      "Google I/O 2018 : 500,000+\n",
      "R Language Reference Guide : 10,000+\n",
      "Learn R Programming Full : 5,000+\n",
      "R Programing Offline Tutorial : 1,000+\n",
      "Guide for R Programming : 5+\n",
      "Learn R Programming : 10+\n",
      "R Quick Reference Big Data : 1,000+\n",
      "V Made : 100,000+\n",
      "Wattpad 📖 Free Books : 100,000,000+\n",
      "Dictionary - WordWeb : 5,000,000+\n",
      "Guide (for X-MEN) : 100,000+\n",
      "AC Air condition Troubleshoot,Repair,Maintenance : 5,000+\n",
      "AE Bulletins : 1,000+\n",
      "Ae Allah na Dai (Rasa) : 10,000+\n",
      "50000 Free eBooks & Free AudioBooks : 5,000,000+\n",
      "Ag PhD Field Guide : 10,000+\n",
      "Ag PhD Deficiencies : 10,000+\n",
      "Ag PhD Planting Population Calculator : 1,000+\n",
      "Ag PhD Soybean Diseases : 1,000+\n",
      "Fertilizer Removal By Crop : 50,000+\n",
      "A-J Media Vault : 50+\n",
      "Al-Quran (Free) : 10,000,000+\n",
      "Al Quran (Tafsir & by Word) : 500,000+\n",
      "Al Quran Indonesia : 10,000,000+\n",
      "Al'Quran Bahasa Indonesia : 10,000,000+\n",
      "Al Quran Al karim : 1,000,000+\n",
      "Al-Muhaffiz : 50,000+\n",
      "Al Quran : EAlim - Translations & MP3 Offline : 5,000,000+\n",
      "Al-Quran 30 Juz free copies : 500,000+\n",
      "Koran Read &MP3 30 Juz Offline : 1,000,000+\n",
      "Hafizi Quran 15 lines per page : 1,000,000+\n",
      "Quran for Android : 10,000,000+\n",
      "Surah Al-Waqiah : 100,000+\n",
      "Hisnul Al Muslim - Hisn Invocations & Adhkaar : 100,000+\n",
      "Satellite AR : 1,000,000+\n",
      "Audiobooks from Audible : 100,000,000+\n",
      "Kinot & Eichah for Tisha B'Av : 10,000+\n",
      "AW Tozer Devotionals - Daily : 5,000+\n",
      "Tozer Devotional -Series 1 : 1,000+\n",
      "The Pursuit of God : 1,000+\n",
      "AY Sing : 5,000+\n",
      "Ay Hasnain k Nana Milad Naat : 10,000+\n",
      "Ay Mohabbat Teri Khatir Novel : 10,000+\n",
      "Arizona Statutes, ARS (AZ Law) : 1,000+\n",
      "Oxford A-Z of English Usage : 1,000,000+\n",
      "BD Fishpedia : 1,000+\n",
      "BD All Sim Offer : 10,000+\n",
      "Youboox - Livres, BD et magazines : 500,000+\n",
      "B&H Kids AR : 10,000+\n",
      "B y H Niños ES : 5,000+\n",
      "Dictionary.com: Find Definitions for English Words : 10,000,000+\n",
      "English Dictionary - Offline : 10,000,000+\n",
      "Bible KJV : 5,000,000+\n",
      "Borneo Bible, BM Bible : 10,000+\n",
      "MOD Black for BM : 100+\n",
      "BM Box : 1,000+\n",
      "Anime Mod for BM : 100+\n",
      "NOOK: Read eBooks & Magazines : 10,000,000+\n",
      "NOOK Audiobooks : 500,000+\n",
      "NOOK App for NOOK Devices : 500,000+\n",
      "Browsery by Barnes & Noble : 5,000+\n",
      "bp e-store : 1,000+\n",
      "Brilliant Quotes: Life, Love, Family & Motivation : 1,000,000+\n",
      "BR Ambedkar Biography & Quotes : 10,000+\n",
      "BU Alsace : 100+\n",
      "Catholic La Bu Zo Kam : 500+\n",
      "Khrifa Hla Bu (Solfa) : 10+\n",
      "Kristian Hla Bu : 10,000+\n",
      "SA HLA BU : 1,000+\n",
      "Learn SAP BW : 500+\n",
      "Learn SAP BW on HANA : 500+\n",
      "CA Laws 2018 (California Laws and Codes) : 5,000+\n",
      "Bootable Methods(USB-CD-DVD) : 10,000+\n",
      "cloudLibrary : 100,000+\n",
      "SDA Collegiate Quarterly : 500+\n",
      "Sabbath School : 100,000+\n",
      "Cypress College Library : 100+\n",
      "Stats Royale for Clash Royale : 1,000,000+\n",
      "GATE 21 years CS Papers(2011-2018 Solved) : 50+\n",
      "Learn CT Scan Of Head : 5,000+\n",
      "Easy Cv maker 2018 : 10,000+\n",
      "How to Write CV : 100,000+\n",
      "CW Nuclear : 1,000+\n",
      "CY Spray nozzle : 10+\n",
      "BibleRead En Cy Zh Yue : 5+\n",
      "CZ-Help : 5+\n",
      "Modlitební knížka CZ : 500+\n",
      "Guide for DB Xenoverse : 10,000+\n",
      "Guide for DB Xenoverse 2 : 10,000+\n",
      "Guide for IMS DB : 10+\n",
      "DC HSEMA : 5,000+\n",
      "DC Public Library : 1,000+\n",
      "Painting Lulu DC Super Friends : 1,000+\n",
      "Dictionary : 10,000,000+\n",
      "Fix Error Google Playstore : 1,000+\n",
      "D. H. Lawrence Poems FREE : 1,000+\n",
      "Bilingual Dictionary Audio App : 5,000+\n",
      "DM Screen : 10,000+\n",
      "wikiHow: how to do anything : 1,000,000+\n",
      "Dr. Doug's Tips : 1,000+\n",
      "Bible du Semeur-BDS (French) : 50,000+\n",
      "La citadelle du musulman : 50,000+\n",
      "DV 2019 Entry Guide : 10,000+\n",
      "DV 2019 - EDV Photo & Form : 50,000+\n",
      "DV 2018 Winners Guide : 1,000+\n",
      "EB Annual Meetings : 1,000+\n",
      "EC - AP & Telangana : 5,000+\n",
      "TN Patta Citta & EC : 10,000+\n",
      "AP Stamps and Registration : 10,000+\n",
      "CompactiMa EC pH Calibration : 100+\n",
      "EGW Writings 2 : 100,000+\n",
      "EGW Writings : 1,000,000+\n",
      "Bible with EGW Comments : 100,000+\n",
      "My Little Pony AR Guide : 1,000,000+\n",
      "SDA Sabbath School Quarterly : 500,000+\n",
      "Duaa Ek Ibaadat : 5,000+\n",
      "Spanish English Translator : 10,000,000+\n",
      "Dictionary - Merriam-Webster : 10,000,000+\n",
      "JW Library : 10,000,000+\n",
      "Oxford Dictionary of English : Free : 10,000,000+\n",
      "English Hindi Dictionary : 10,000,000+\n",
      "English to Hindi Dictionary : 5,000,000+\n",
      "EP Research Service : 1,000+\n",
      "Hymnes et Louanges : 100,000+\n",
      "EU Charter : 1,000+\n",
      "EU Data Protection : 1,000+\n",
      "EU IP Codes : 100+\n",
      "EW PDF : 5+\n",
      "BakaReader EX : 100,000+\n",
      "EZ Quran : 50,000+\n",
      "FA Part 1 & 2 Past Papers Solved Free – Offline : 5,000+\n",
      "La Fe de Jesus : 1,000+\n",
      "La Fe de Jesús : 500+\n",
      "Le Fe de Jesus : 500+\n",
      "Florida - Pocket Brainbook : 1,000+\n",
      "Florida Statutes (FL Code) : 1,000+\n",
      "English To Shona Dictionary : 10,000+\n",
      "Greek Bible FP (Audio) : 1,000+\n",
      "Golden Dictionary (FR-AR) : 500,000+\n",
      "Fanfic-FR : 5,000+\n",
      "Bulgarian French Dictionary Fr : 10,000+\n",
      "Chemin (fr) : 1,000+\n",
      "The SCP Foundation DB fr nn5n : 1,000+\n"
     ]
    }
   ],
   "source": [
    "for app in android_free_apps:\n",
    "    if app[1] == 'BOOKS_AND_REFERENCE':\n",
    "        print(app[0], ':', app[5])"
   ]
  },
  {
   "cell_type": "markdown",
   "metadata": {},
   "source": [
    "\n",
    "The book and reference genre includes a variety of apps: software for processing and reading ebooks, various collections of libraries, dictionaries, tutorials on programming or languages, etc. It seems there's still a small number of extremely popular apps that skew the average:"
   ]
  },
  {
   "cell_type": "code",
   "execution_count": 23,
   "metadata": {
    "collapsed": false
   },
   "outputs": [
    {
     "name": "stdout",
     "output_type": "stream",
     "text": [
      "Google Play Books : 1,000,000,000+\n",
      "Bible : 100,000,000+\n",
      "Amazon Kindle : 100,000,000+\n",
      "Wattpad 📖 Free Books : 100,000,000+\n",
      "Audiobooks from Audible : 100,000,000+\n"
     ]
    }
   ],
   "source": [
    "for app in android_free_apps:\n",
    "    if app[1] == 'BOOKS_AND_REFERENCE' and (app[5] == '1,000,000,000+'\n",
    "                                            or app[5] == '500,000,000+'\n",
    "                                            or app[5] == '100,000,000+'):\n",
    "        print(app[0], ':', app[5])"
   ]
  },
  {
   "cell_type": "markdown",
   "metadata": {},
   "source": [
    "However, it looks like there are only a few very popular apps, so this market still shows potential. Let's try to get some app ideas based on the kind of apps that are somewhere in the middle in terms of popularity (between 1,000,000 and 100,000,000 downloads):"
   ]
  },
  {
   "cell_type": "code",
   "execution_count": 24,
   "metadata": {
    "collapsed": false
   },
   "outputs": [
    {
     "name": "stdout",
     "output_type": "stream",
     "text": [
      "Wikipedia : 10,000,000+\n",
      "Cool Reader : 10,000,000+\n",
      "Book store : 1,000,000+\n",
      "FBReader: Favorite Book Reader : 10,000,000+\n",
      "Free Books - Spirit Fanfiction and Stories : 1,000,000+\n",
      "AlReader -any text book reader : 5,000,000+\n",
      "FamilySearch Tree : 1,000,000+\n",
      "Cloud of Books : 1,000,000+\n",
      "ReadEra – free ebook reader : 1,000,000+\n",
      "Ebook Reader : 5,000,000+\n",
      "Read books online : 5,000,000+\n",
      "eBoox: book reader fb2 epub zip : 1,000,000+\n",
      "All Maths Formulas : 1,000,000+\n",
      "Ancestry : 5,000,000+\n",
      "HTC Help : 10,000,000+\n",
      "Moon+ Reader : 10,000,000+\n",
      "English-Myanmar Dictionary : 1,000,000+\n",
      "Golden Dictionary (EN-AR) : 1,000,000+\n",
      "All Language Translator Free : 1,000,000+\n",
      "Aldiko Book Reader : 10,000,000+\n",
      "Dictionary - WordWeb : 5,000,000+\n",
      "50000 Free eBooks & Free AudioBooks : 5,000,000+\n",
      "Al-Quran (Free) : 10,000,000+\n",
      "Al Quran Indonesia : 10,000,000+\n",
      "Al'Quran Bahasa Indonesia : 10,000,000+\n",
      "Al Quran Al karim : 1,000,000+\n",
      "Al Quran : EAlim - Translations & MP3 Offline : 5,000,000+\n",
      "Koran Read &MP3 30 Juz Offline : 1,000,000+\n",
      "Hafizi Quran 15 lines per page : 1,000,000+\n",
      "Quran for Android : 10,000,000+\n",
      "Satellite AR : 1,000,000+\n",
      "Oxford A-Z of English Usage : 1,000,000+\n",
      "Dictionary.com: Find Definitions for English Words : 10,000,000+\n",
      "English Dictionary - Offline : 10,000,000+\n",
      "Bible KJV : 5,000,000+\n",
      "NOOK: Read eBooks & Magazines : 10,000,000+\n",
      "Brilliant Quotes: Life, Love, Family & Motivation : 1,000,000+\n",
      "Stats Royale for Clash Royale : 1,000,000+\n",
      "Dictionary : 10,000,000+\n",
      "wikiHow: how to do anything : 1,000,000+\n",
      "EGW Writings : 1,000,000+\n",
      "My Little Pony AR Guide : 1,000,000+\n",
      "Spanish English Translator : 10,000,000+\n",
      "Dictionary - Merriam-Webster : 10,000,000+\n",
      "JW Library : 10,000,000+\n",
      "Oxford Dictionary of English : Free : 10,000,000+\n",
      "English Hindi Dictionary : 10,000,000+\n",
      "English to Hindi Dictionary : 5,000,000+\n"
     ]
    }
   ],
   "source": [
    "for app in android_free_apps:\n",
    "    if app[1] == 'BOOKS_AND_REFERENCE' and (app[5] == '1,000,000+'\n",
    "                                            or app[5] == '5,000,000+'\n",
    "                                            or app[5] == '10,000,000+'\n",
    "                                            or app[5] == '50,000,000+'):\n",
    "        print(app[0], ':', app[5])"
   ]
  },
  {
   "cell_type": "markdown",
   "metadata": {},
   "source": [
    "This niche seems to be dominated by software for processing and reading ebooks, as well as various collections of libraries and dictionaries, so it's probably not a good idea to build similar apps since there'll be some significant competition.\n",
    "We also notice there are quite a few apps built around the book Quran, which suggests that building an app around a popular book can be profitable. It seems that taking a popular book (perhaps a more recent book) and turning it into an app could be profitable for both the Google Play and the App Store markets.\n",
    "However, it looks like the market is already full of libraries, so we need to add some special features besides the raw version of the book. This might include daily quotes from the book, an audio version of the book, quizzes on the book, a forum where people can discuss the book, etc."
   ]
  },
  {
   "cell_type": "markdown",
   "metadata": {},
   "source": [
    "### Conclusions\n",
    "In this project, we analyzed data about the App Store and Google Play mobile apps with the goal of recommending an app profile that can be profitable for both markets.\n",
    "We concluded that taking a popular book (perhaps a more recent book) and turning it into an app could be profitable for both the Google Play and the App Store markets. The markets are already full of libraries, so we need to add some special features besides the raw version of the book. This might include daily quotes from the book, an audio version of the book, quizzes on the book, a forum where people can discuss the book, etc."
   ]
  },
  {
   "cell_type": "code",
   "execution_count": null,
   "metadata": {
    "collapsed": true
   },
   "outputs": [],
   "source": []
  }
 ],
 "metadata": {
  "kernelspec": {
   "display_name": "Python 3",
   "language": "python",
   "name": "python3"
  },
  "language_info": {
   "codemirror_mode": {
    "name": "ipython",
    "version": 3
   },
   "file_extension": ".py",
   "mimetype": "text/x-python",
   "name": "python",
   "nbconvert_exporter": "python",
   "pygments_lexer": "ipython3",
   "version": "3.4.3"
  }
 },
 "nbformat": 4,
 "nbformat_minor": 2
}
