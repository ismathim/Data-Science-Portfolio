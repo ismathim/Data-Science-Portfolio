{
 "cells": [
  {
   "cell_type": "markdown",
   "metadata": {},
   "source": [
    "## Data Cleaning of the MoMa Data set \n",
    "\n",
    "### Introduction  \n",
    "The dataset considered in this Project is from the Museum of Modern Art, New York which has the lasrgest collection of Modern Art in the world. \n",
    "\n",
    "The data available is not always clean and hence requires Cleaning. As a Data Analyst, the job is to first perform this task. \n",
    "\n",
    "The Dataset available on the MoMA website consists of around 135,000 rows of entries and hence requires to be sampled to make the Analysis faster and simpler.The dataset which we'll be considering is of 17,000 rows. \n",
    "\n",
    "### DataSet \n",
    "The data set consists of the following Titles/Column Headings \n",
    "1. **Title**: The title of the artwork.\n",
    "2. **Artist**: The name of the artist who created the artwork.\n",
    "3. **Nationality**: The nationality of the artist.\n",
    "4. **BeginDate**: The year in which the artist was born.\n",
    "5. **EndDate**: The year in which the artist died.\n",
    "6. **Gender**: The gender of the artist.\n",
    "7. **Date**: The date that the artwork was created.\n",
    "8. **Department**: The department inside MoMA to which the artwork belongs.\n",
    "\n",
    "### Problem Statement  \n",
    "The dataset from the Museum of Modern Art (MoMA) needs to be cleaned and then further analysed on various categories.\n",
    "\n",
    "### Solution \n",
    "Let's start by first extracting the number of rows available in the MoMA Data Sample considered.  "
   ]
  },
  {
   "cell_type": "code",
   "execution_count": 2,
   "metadata": {},
   "outputs": [
    {
     "name": "stdout",
     "output_type": "stream",
     "text": [
      "The length of the sampled MoMA Dataset consists of 16729 rows.\n"
     ]
    }
   ],
   "source": [
    "from csv import reader \n",
    "opened_file=open('artworks.csv')\n",
    "read_file=reader(opened_file)\n",
    "moma=list(read_file)\n",
    "moma=moma[1:]\n",
    "print ('The length of the sampled MoMA Dataset consists of',len(moma),'rows.')"
   ]
  },
  {
   "cell_type": "markdown",
   "metadata": {},
   "source": [
    "Each row in the Dataset represents a unique piece of Art.\n"
   ]
  },
  {
   "cell_type": "code",
   "execution_count": 3,
   "metadata": {},
   "outputs": [
    {
     "name": "stdout",
     "output_type": "stream",
     "text": [
      "['Dress MacLeod from Tartan Sets', 'Sarah Charlesworth', '(American)', '(1947)', '(2013)', '(Female)', '1986', 'Prints & Illustrated Books']\n",
      "['Duplicate of plate from folio 11 verso (supplementary suite, plate 4) from ARDICIA', 'Pablo Palazuelo', '(Spanish)', '(1916)', '(2007)', '(Male)', '1978', 'Prints & Illustrated Books']\n",
      "['Tailpiece (page 55) from SAGESSE', 'Maurice Denis', '(French)', '(1870)', '(1943)', '(Male)', '1889-1911', 'Prints & Illustrated Books']\n",
      "['Headpiece (page 129) from LIVRET DE FOLASTRIES, À JANOT PARISIEN', 'Aristide Maillol', '(French)', '(1861)', '(1944)', '(Male)', '1927-1940', 'Prints & Illustrated Books']\n",
      "['97 rue du Bac', 'Eugène Atget', '(French)', '(1857)', '(1927)', '(Male)', '1903', 'Photography']\n"
     ]
    }
   ],
   "source": [
    "for values in moma[:5]:\n",
    "    print (values)"
   ]
  },
  {
   "cell_type": "markdown",
   "metadata": {},
   "source": [
    "if we look at the Nationality and the Gender Columns , we can see that each of the values are enclosed in '(' ')' brackets and hence we need to remove them for our first analysis. "
   ]
  },
  {
   "cell_type": "code",
   "execution_count": 4,
   "metadata": {},
   "outputs": [],
   "source": [
    "for na in moma:\n",
    "    nationality =na[2]\n",
    "    nationality=nationality.replace ('(',\"\")\n",
    "    nationality=nationality.replace(')',\"\")\n",
    "    na[2]=nationality \n",
    "    \n",
    "    gender=na[5]\n",
    "    gender=gender.replace(\"(\",\"\")\n",
    "    gender=gender.replace(\")\",\"\")\n",
    "    na[5]=gender"
   ]
  },
  {
   "cell_type": "markdown",
   "metadata": {},
   "source": [
    "Now, let's just display the first few rows after cleaning the Nationality and Gender Columns. \n"
   ]
  },
  {
   "cell_type": "code",
   "execution_count": 10,
   "metadata": {},
   "outputs": [
    {
     "name": "stdout",
     "output_type": "stream",
     "text": [
      "{'Female': 2443, 'Male': 13491, '': 794, 'male': 1}\n"
     ]
    }
   ],
   "source": [
    "dict_1={}\n",
    "for values in moma:\n",
    "    gen=values[5]\n",
    "    if gen in dict_1:\n",
    "        dict_1[gen]+=1\n",
    "    else:\n",
    "        dict_1[gen]=1\n",
    "print (dict_1)"
   ]
  },
  {
   "cell_type": "markdown",
   "metadata": {},
   "source": [
    "Next up, we'll work on cleaning the Gender Column further. If we look at the whole Data Set, we can see that the Gender column has the following values :\n",
    "1. Male\n",
    "2. Female\n",
    "3. \" \" - an empty string\n",
    "4. \n"
   ]
  }
 ],
 "metadata": {
  "kernelspec": {
   "display_name": "Python 3",
   "language": "python",
   "name": "python3"
  },
  "language_info": {
   "codemirror_mode": {
    "name": "ipython",
    "version": 3
   },
   "file_extension": ".py",
   "mimetype": "text/x-python",
   "name": "python",
   "nbconvert_exporter": "python",
   "pygments_lexer": "ipython3",
   "version": "3.8.1"
  }
 },
 "nbformat": 4,
 "nbformat_minor": 4
}
